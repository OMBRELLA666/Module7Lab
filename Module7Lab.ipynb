{
  "metadata": {
    "kernelspec": {
      "name": "python",
      "display_name": "Python (Pyodide)",
      "language": "python"
    },
    "language_info": {
      "codemirror_mode": {
        "name": "python",
        "version": 3
      },
      "file_extension": ".py",
      "mimetype": "text/x-python",
      "name": "python",
      "nbconvert_exporter": "python",
      "pygments_lexer": "ipython3",
      "version": "3.8"
    }
  },
  "nbformat_minor": 5,
  "nbformat": 4,
  "cells": [
    {
      "id": "39cb213f-dce5-4e10-9c8c-867a0f268a45",
      "cell_type": "code",
      "source": "import pandas as pd\n\ndf = pd.read_csv('telco_churn.csv')",
      "metadata": {
        "trusted": true
      },
      "outputs": [],
      "execution_count": 4
    },
    {
      "id": "2d57e9c8-5e5e-4fbf-aef5-950bfeb0b338",
      "cell_type": "code",
      "source": "print(df.head())       # Top 5 rows\nprint(df.tail())       # Bottom 5 rows",
      "metadata": {
        "trusted": true
      },
      "outputs": [
        {
          "name": "stdout",
          "output_type": "stream",
          "text": "  State  Account length  Area code International plan Voice mail plan  \\\n0    KS             128        415                 No             Yes   \n1    OH             107        415                 No             Yes   \n2    NJ             137        415                 No              No   \n3    OH              84        408                Yes              No   \n4    OK              75        415                Yes              No   \n\n   Number vmail messages  Total day minutes  Total day calls  \\\n0                     25              265.1            110.0   \n1                     26              161.6            123.0   \n2                      0              243.4            114.0   \n3                      0              299.4             71.0   \n4                      0              166.7            113.0   \n\n   Total day charge  Total eve minutes  Total eve calls  Total eve charge  \\\n0             45.07              197.4             99.0             16.78   \n1             27.47              195.5            103.0             16.62   \n2             41.38              121.2            110.0             10.30   \n3             50.90               61.9             88.0              5.26   \n4             28.34              148.3            122.0             12.61   \n\n   Total night minutes  Total night calls  Total night charge  \\\n0                244.7               91.0               11.01   \n1                254.4              103.0               11.45   \n2                162.6              104.0                7.32   \n3                196.9               89.0                8.86   \n4                186.9              121.0                8.41   \n\n   Total intl minutes  Total intl calls  Total intl charge  \\\n0                10.0                 3               2.70   \n1                13.7                 3               3.70   \n2                12.2                 5               3.29   \n3                 6.6                 7               1.78   \n4                10.1                 3               2.73   \n\n   Customer service calls  Churn  \n0                     1.0  False  \n1                     1.0  False  \n2                     0.0  False  \n3                     2.0  False  \n4                     3.0  False  \n     State  Account length  Area code International plan Voice mail plan  \\\n3328    AZ             192        415                 No             Yes   \n3329    WV              68        415                 No              No   \n3330    RI              28        510                 No              No   \n3331    CT             184        510                Yes              No   \n3332    TN              74        415                 No             Yes   \n\n      Number vmail messages  Total day minutes  Total day calls  \\\n3328                     36              156.2             77.0   \n3329                      0              231.1             57.0   \n3330                      0              180.8            109.0   \n3331                      0              213.8            105.0   \n3332                     25              234.4            113.0   \n\n      Total day charge  Total eve minutes  Total eve calls  Total eve charge  \\\n3328             26.55              215.5            126.0             18.32   \n3329             39.29              153.4             55.0             13.04   \n3330             30.74              288.8             58.0             24.55   \n3331             36.35              159.6             84.0             13.57   \n3332             39.85              265.9             82.0             22.60   \n\n      Total night minutes  Total night calls  Total night charge  \\\n3328                279.1               83.0               12.56   \n3329                191.3              123.0                8.61   \n3330                191.9               91.0                8.64   \n3331                139.2              137.0                6.26   \n3332                241.4               77.0               10.86   \n\n      Total intl minutes  Total intl calls  Total intl charge  \\\n3328                 9.9                 6               2.67   \n3329                 9.6                 4               2.59   \n3330                14.1                 6               3.81   \n3331                 5.0                10               1.35   \n3332                13.7                 4               3.70   \n\n      Customer service calls  Churn  \n3328                     2.0  False  \n3329                     3.0  False  \n3330                     2.0  False  \n3331                     2.0  False  \n3332                     0.0  False  \n"
        }
      ],
      "execution_count": 5
    },
    {
      "id": "4ed9cbfc-3289-4d46-8cff-8960ff26edac",
      "cell_type": "code",
      "source": "print(df.columns)      # All column names\nprint(df.dtypes)       # Data types\nprint(df.describe())   # Summary stats for numerical columns\nprint(df.describe(include='object'))  # Summary stats for categorical columns",
      "metadata": {
        "trusted": true
      },
      "outputs": [
        {
          "name": "stdout",
          "output_type": "stream",
          "text": "Index(['State', 'Account length', 'Area code', 'International plan',\n       'Voice mail plan', 'Number vmail messages', 'Total day minutes',\n       'Total day calls', 'Total day charge', 'Total eve minutes',\n       'Total eve calls', 'Total eve charge', 'Total night minutes',\n       'Total night calls', 'Total night charge', 'Total intl minutes',\n       'Total intl calls', 'Total intl charge', 'Customer service calls',\n       'Churn'],\n      dtype='object')\nState                      object\nAccount length              int64\nArea code                   int64\nInternational plan         object\nVoice mail plan            object\nNumber vmail messages       int64\nTotal day minutes         float64\nTotal day calls           float64\nTotal day charge          float64\nTotal eve minutes         float64\nTotal eve calls           float64\nTotal eve charge          float64\nTotal night minutes       float64\nTotal night calls         float64\nTotal night charge        float64\nTotal intl minutes        float64\nTotal intl calls            int64\nTotal intl charge         float64\nCustomer service calls    float64\nChurn                      object\ndtype: object\n       Account length    Area code  Number vmail messages  Total day minutes  \\\ncount     3333.000000  3333.000000            3333.000000        3323.000000   \nmean       101.064806   437.182418               8.099010         179.787150   \nstd         39.822106    42.371290              13.688365          54.419625   \nmin          1.000000   408.000000               0.000000           0.000000   \n25%         74.000000   408.000000               0.000000         143.700000   \n50%        101.000000   415.000000               0.000000         179.400000   \n75%        127.000000   510.000000              20.000000         216.500000   \nmax        243.000000   510.000000              51.000000         350.800000   \n\n       Total day calls  Total day charge  Total eve minutes  Total eve calls  \\\ncount      3323.000000       3315.000000        3324.000000      3325.000000   \nmean        100.456214         30.557831         201.033935       100.110677   \nstd          20.057356          9.255987          50.676652        19.932115   \nmin           0.000000          0.000000           0.000000         0.000000   \n25%          87.000000         24.420000         166.600000        87.000000   \n50%         101.000000         30.500000         201.400000       100.000000   \n75%         114.000000         36.780000         235.325000       114.000000   \nmax         165.000000         59.640000         363.700000       170.000000   \n\n       Total eve charge  Total night minutes  Total night calls  \\\ncount       3333.000000          3333.000000        3332.000000   \nmean          17.083540           200.872037         100.115246   \nstd            4.310668            50.573847          19.566710   \nmin            0.000000            23.200000          33.000000   \n25%           14.160000           167.000000          87.000000   \n50%           17.120000           201.200000         100.000000   \n75%           20.000000           235.300000         113.000000   \nmax           30.910000           395.000000         175.000000   \n\n       Total night charge  Total intl minutes  Total intl calls  \\\ncount         3333.000000         3333.000000       3333.000000   \nmean             9.039325           10.237294          4.479448   \nstd              2.275873            2.791840          2.461214   \nmin              1.040000            0.000000          0.000000   \n25%              7.520000            8.500000          3.000000   \n50%              9.050000           10.300000          4.000000   \n75%             10.590000           12.100000          6.000000   \nmax             17.770000           20.000000         20.000000   \n\n       Total intl charge  Customer service calls  \ncount        3328.000000             3328.000000  \nmean            2.764588                1.563101  \nstd             0.754086                1.315870  \nmin             0.000000                0.000000  \n25%             2.300000                1.000000  \n50%             2.780000                1.000000  \n75%             3.270000                2.000000  \nmax             5.400000                9.000000  \n       State International plan Voice mail plan  Churn\ncount   3333               3333            3333   3325\nunique    51                  2               2      2\ntop       WV                 No              No  False\nfreq     106               3010            2411   2842\n"
        }
      ],
      "execution_count": 6
    },
    {
      "id": "7dfc1deb-0015-46b7-8472-09069f60c4b8",
      "cell_type": "code",
      "source": "print(df['State'].unique())  # Unique values in the 'state' column\n\n# Filter: Customers who churned AND were not on international plan\nfiltered_df = df[(df['Churn'] == True) & (df['International plan'] == 'no')]",
      "metadata": {
        "trusted": true
      },
      "outputs": [
        {
          "name": "stdout",
          "output_type": "stream",
          "text": "['KS' 'OH' 'NJ' 'OK' 'AL' 'MA' 'MO' 'LA' 'WV' 'IN' 'RI' 'IA' 'MT' 'NY'\n 'ID' 'VT' 'VA' 'TX' 'FL' 'CO' 'AZ' 'SC' 'NE' 'WY' 'HI' 'IL' 'NH' 'GA'\n 'AK' 'MD' 'AR' 'WI' 'OR' 'MI' 'DE' 'UT' 'CA' 'MN' 'SD' 'NC' 'WA' 'NM'\n 'NV' 'DC' 'KY' 'ME' 'MS' 'TN' 'PA' 'CT' 'ND']\n"
        }
      ],
      "execution_count": 11
    },
    {
      "id": "6770c8ea-1db4-41d7-a97e-0e9d8e4e5c2a",
      "cell_type": "code",
      "source": "# Create new column as sum of night and international minutes\ndf['new_column'] = df['Total night minutes'] + df['Total intl minutes']\n\n# Convert churn True/False to binary\ndf['churn_binary'] = df['Churn'].apply(lambda x: 1 if x else 0)",
      "metadata": {
        "trusted": true
      },
      "outputs": [],
      "execution_count": 13
    },
    {
      "id": "02a60509-890f-4b87-a721-5d4aeda46b47",
      "cell_type": "code",
      "source": "df.drop(columns=['Area code'], inplace=True)\ndf.dropna(inplace=True)  # Drop rows with any nulls",
      "metadata": {
        "trusted": true
      },
      "outputs": [],
      "execution_count": 15
    }
  ]
}